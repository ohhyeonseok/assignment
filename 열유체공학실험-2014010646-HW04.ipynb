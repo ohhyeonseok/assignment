{
  "nbformat": 4,
  "nbformat_minor": 0,
  "metadata": {
    "colab": {
      "name": "Untitled1.ipynb",
      "provenance": [],
      "include_colab_link": true
    },
    "kernelspec": {
      "name": "python3",
      "display_name": "Python 3"
    }
  },
  "cells": [
    {
      "cell_type": "markdown",
      "metadata": {
        "id": "view-in-github",
        "colab_type": "text"
      },
      "source": [
        "<a href=\"https://colab.research.google.com/github/ohhyeonseok/assignment/blob/master/%EC%97%B4%EC%9C%A0%EC%B2%B4%EA%B3%B5%ED%95%99%EC%8B%A4%ED%97%98-2014010646-HW04.ipynb\" target=\"_parent\"><img src=\"https://colab.research.google.com/assets/colab-badge.svg\" alt=\"Open In Colab\"/></a>"
      ]
    },
    {
      "cell_type": "code",
      "metadata": {
        "id": "9rnQ2KR9Zv2u",
        "colab_type": "code",
        "colab": {}
      },
      "source": [
        "#1. python 기본 문법\n",
        "\n",
        "a=int(input())\n",
        "def multi(a):\n",
        "  i=1\n",
        "  while i<10:\n",
        "    print(a*i)\n",
        "    i=i+1\n",
        "   \n",
        "\n",
        "%timeit multi(a)   \n",
        "  "
      ],
      "execution_count": 0,
      "outputs": []
    },
    {
      "cell_type": "code",
      "metadata": {
        "id": "C_rKDu_zaxdH",
        "colab_type": "code",
        "colab": {}
      },
      "source": [
        "#2. numpy를 사용한 방법\n",
        "import numpy as np\n",
        "\n",
        "a=int(input())\n",
        "def multi(a):\n",
        "  x1=np.arange(1,10)\n",
        "  \n",
        "  x2=a*x1\n",
        "  \n",
        "  print(*x2, sep='\\n')\n",
        "\n",
        "%timeit multi(a)"
      ],
      "execution_count": 0,
      "outputs": []
    },
    {
      "cell_type": "code",
      "metadata": {
        "id": "g-M01Haec8Vb",
        "colab_type": "code",
        "colab": {}
      },
      "source": [
        "#3. numba.jit을 이용한 방법\n",
        "\n",
        "import numba\n",
        "\n",
        "@numba.jit(\"void(f4[:])\")\n",
        "\n",
        "\n",
        "def multi(a):\n",
        "  i=1\n",
        "  while i<10:\n",
        "    print(a*i, sep='\\n')\n",
        "    i=i+1\n",
        "\n",
        "a=int(input())\n",
        "\n",
        "%timeit multi(a)   \n",
        "  \n"
      ],
      "execution_count": 0,
      "outputs": []
    },
    {
      "cell_type": "code",
      "metadata": {
        "id": "iHgSxqpZAVRs",
        "colab_type": "code",
        "colab": {}
      },
      "source": [
        "#4. cuda를 이용한 방법\n",
        "\n",
        "import numpy as np\n",
        "from numba import vectorize\n",
        "import os\n",
        "\n",
        "os.environ['NUMBAPRO_LIBDEVICE'] = \"/usr/local/cuda-10.0/nvvm/libdevice\"\n",
        "os.environ['NUMBAPRO_NVVM'] = \"/usr/local/cuda-10.0/nvvm/lib64/libnvvm.so\"\n",
        "\n",
        "@vectorize([int32(int32, int32)], target='cuda')\n",
        "\n",
        "def multi(a,x1):\n",
        "  x2=a*x1\n",
        "  \n",
        "  return x2\n",
        "a=int32(input())\n",
        "x1=np.arange(1,10, dtype=np.int32)\n",
        "\n",
        "%timeit print(*multi(a,x1), sep='\\n') \n",
        "  "
      ],
      "execution_count": 0,
      "outputs": []
    }
  ]
}