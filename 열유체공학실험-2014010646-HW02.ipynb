{
  "nbformat": 4,
  "nbformat_minor": 0,
  "metadata": {
    "colab": {
      "name": "Untitled5.ipynb",
      "provenance": [],
      "include_colab_link": true
    },
    "kernelspec": {
      "name": "python3",
      "display_name": "Python 3"
    }
  },
  "cells": [
    {
      "cell_type": "markdown",
      "metadata": {
        "id": "view-in-github",
        "colab_type": "text"
      },
      "source": [
        "<a href=\"https://colab.research.google.com/github/ohhyeonseok/assignment/blob/master/%EC%97%B4%EC%9C%A0%EC%B2%B4%EA%B3%B5%ED%95%99%EC%8B%A4%ED%97%98-2014010646-HW02.ipynb\" target=\"_parent\"><img src=\"https://colab.research.google.com/assets/colab-badge.svg\" alt=\"Open In Colab\"/></a>"
      ]
    },
    {
      "cell_type": "code",
      "metadata": {
        "id": "jZD0M01FUNdO",
        "colab_type": "code",
        "colab": {}
      },
      "source": [
        "def 구구단(x) :\n",
        "\n",
        "               list_구구단 = []\n",
        "\n",
        "               for i in range(1, 10, 1) :\n",
        "\n",
        "                              list_구구단.append(x * i)\n",
        "\n",
        "                              print(str(x), \"x\", str(i), \"=\", end = \" \")\n",
        "\n",
        "                              print(list_구구단[i-1])\n",
        "\n",
        "구구단(int(input(\"정수를 입력하세요 : \")))"
      ],
      "execution_count": 0,
      "outputs": []
    }
  ]
}